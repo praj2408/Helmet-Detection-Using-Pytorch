{
 "cells": [
  {
   "cell_type": "markdown",
   "id": "4164bf66",
   "metadata": {},
   "source": [
    "# Model Training"
   ]
  },
  {
   "cell_type": "code",
   "execution_count": 1,
   "id": "02e823c7",
   "metadata": {},
   "outputs": [],
   "source": [
    "import pandas as pd\n",
    "import numpy as np\n",
    "import seaborn as sns\n",
    "import matplotlib.pyplot as plt"
   ]
  },
  {
   "cell_type": "code",
   "execution_count": null,
   "id": "479d1693",
   "metadata": {},
   "outputs": [],
   "source": []
  },
  {
   "cell_type": "code",
   "execution_count": 4,
   "id": "a220aaf6",
   "metadata": {},
   "outputs": [],
   "source": [
    "df = pd.read_csv(\"data/data_processed.csv\")"
   ]
  },
  {
   "cell_type": "code",
   "execution_count": 5,
   "id": "a4fab867",
   "metadata": {},
   "outputs": [
    {
     "data": {
      "text/html": [
       "<div>\n",
       "<style scoped>\n",
       "    .dataframe tbody tr th:only-of-type {\n",
       "        vertical-align: middle;\n",
       "    }\n",
       "\n",
       "    .dataframe tbody tr th {\n",
       "        vertical-align: top;\n",
       "    }\n",
       "\n",
       "    .dataframe thead th {\n",
       "        text-align: right;\n",
       "    }\n",
       "</style>\n",
       "<table border=\"1\" class=\"dataframe\">\n",
       "  <thead>\n",
       "    <tr style=\"text-align: right;\">\n",
       "      <th></th>\n",
       "      <th>Type</th>\n",
       "      <th>Machine failure</th>\n",
       "      <th>Rotational speed [rpm]</th>\n",
       "      <th>Torque [Nm]</th>\n",
       "      <th>Tool wear [min]</th>\n",
       "      <th>Air temperature [c]</th>\n",
       "      <th>Process temperature [c]</th>\n",
       "      <th>type_of_failure</th>\n",
       "    </tr>\n",
       "  </thead>\n",
       "  <tbody>\n",
       "    <tr>\n",
       "      <th>0</th>\n",
       "      <td>1.0</td>\n",
       "      <td>0</td>\n",
       "      <td>0.222934</td>\n",
       "      <td>0.535714</td>\n",
       "      <td>0.000000</td>\n",
       "      <td>0.304348</td>\n",
       "      <td>0.358025</td>\n",
       "      <td>5</td>\n",
       "    </tr>\n",
       "    <tr>\n",
       "      <th>1</th>\n",
       "      <td>0.0</td>\n",
       "      <td>0</td>\n",
       "      <td>0.139697</td>\n",
       "      <td>0.583791</td>\n",
       "      <td>0.011858</td>\n",
       "      <td>0.315217</td>\n",
       "      <td>0.370370</td>\n",
       "      <td>5</td>\n",
       "    </tr>\n",
       "    <tr>\n",
       "      <th>2</th>\n",
       "      <td>0.0</td>\n",
       "      <td>0</td>\n",
       "      <td>0.192084</td>\n",
       "      <td>0.626374</td>\n",
       "      <td>0.019763</td>\n",
       "      <td>0.304348</td>\n",
       "      <td>0.345679</td>\n",
       "      <td>5</td>\n",
       "    </tr>\n",
       "    <tr>\n",
       "      <th>3</th>\n",
       "      <td>0.0</td>\n",
       "      <td>0</td>\n",
       "      <td>0.154249</td>\n",
       "      <td>0.490385</td>\n",
       "      <td>0.027668</td>\n",
       "      <td>0.315217</td>\n",
       "      <td>0.358025</td>\n",
       "      <td>5</td>\n",
       "    </tr>\n",
       "    <tr>\n",
       "      <th>4</th>\n",
       "      <td>0.0</td>\n",
       "      <td>0</td>\n",
       "      <td>0.139697</td>\n",
       "      <td>0.497253</td>\n",
       "      <td>0.035573</td>\n",
       "      <td>0.315217</td>\n",
       "      <td>0.370370</td>\n",
       "      <td>5</td>\n",
       "    </tr>\n",
       "  </tbody>\n",
       "</table>\n",
       "</div>"
      ],
      "text/plain": [
       "   Type  Machine failure  Rotational speed [rpm]  Torque [Nm]  \\\n",
       "0   1.0                0                0.222934     0.535714   \n",
       "1   0.0                0                0.139697     0.583791   \n",
       "2   0.0                0                0.192084     0.626374   \n",
       "3   0.0                0                0.154249     0.490385   \n",
       "4   0.0                0                0.139697     0.497253   \n",
       "\n",
       "   Tool wear [min]  Air temperature [c]  Process temperature [c]  \\\n",
       "0         0.000000             0.304348                 0.358025   \n",
       "1         0.011858             0.315217                 0.370370   \n",
       "2         0.019763             0.304348                 0.345679   \n",
       "3         0.027668             0.315217                 0.358025   \n",
       "4         0.035573             0.315217                 0.370370   \n",
       "\n",
       "   type_of_failure  \n",
       "0                5  \n",
       "1                5  \n",
       "2                5  \n",
       "3                5  \n",
       "4                5  "
      ]
     },
     "execution_count": 5,
     "metadata": {},
     "output_type": "execute_result"
    }
   ],
   "source": [
    "df.head()"
   ]
  },
  {
   "cell_type": "code",
   "execution_count": 6,
   "id": "d145ae1a",
   "metadata": {},
   "outputs": [
    {
     "name": "stdout",
     "output_type": "stream",
     "text": [
      "<class 'pandas.core.frame.DataFrame'>\n",
      "RangeIndex: 57912 entries, 0 to 57911\n",
      "Data columns (total 8 columns):\n",
      " #   Column                   Non-Null Count  Dtype  \n",
      "---  ------                   --------------  -----  \n",
      " 0   Type                     57912 non-null  float64\n",
      " 1   Machine failure          57912 non-null  int64  \n",
      " 2   Rotational speed [rpm]   57912 non-null  float64\n",
      " 3   Torque [Nm]              57912 non-null  float64\n",
      " 4   Tool wear [min]          57912 non-null  float64\n",
      " 5   Air temperature [c]      57912 non-null  float64\n",
      " 6   Process temperature [c]  57912 non-null  float64\n",
      " 7   type_of_failure          57912 non-null  int64  \n",
      "dtypes: float64(6), int64(2)\n",
      "memory usage: 3.5 MB\n"
     ]
    }
   ],
   "source": [
    "df.info()"
   ]
  },
  {
   "cell_type": "code",
   "execution_count": null,
   "id": "08b5a5f8",
   "metadata": {},
   "outputs": [],
   "source": []
  },
  {
   "cell_type": "code",
   "execution_count": 7,
   "id": "5f2d50e9",
   "metadata": {},
   "outputs": [
    {
     "data": {
      "text/plain": [
       "Type                       0\n",
       "Machine failure            0\n",
       "Rotational speed [rpm]     0\n",
       "Torque [Nm]                0\n",
       "Tool wear [min]            0\n",
       "Air temperature [c]        0\n",
       "Process temperature [c]    0\n",
       "type_of_failure            0\n",
       "dtype: int64"
      ]
     },
     "execution_count": 7,
     "metadata": {},
     "output_type": "execute_result"
    }
   ],
   "source": [
    "df.isna().sum()"
   ]
  },
  {
   "cell_type": "code",
   "execution_count": null,
   "id": "be13b813",
   "metadata": {},
   "outputs": [],
   "source": []
  },
  {
   "cell_type": "code",
   "execution_count": 8,
   "id": "687b2ecb",
   "metadata": {},
   "outputs": [
    {
     "data": {
      "text/html": [
       "<div>\n",
       "<style scoped>\n",
       "    .dataframe tbody tr th:only-of-type {\n",
       "        vertical-align: middle;\n",
       "    }\n",
       "\n",
       "    .dataframe tbody tr th {\n",
       "        vertical-align: top;\n",
       "    }\n",
       "\n",
       "    .dataframe thead th {\n",
       "        text-align: right;\n",
       "    }\n",
       "</style>\n",
       "<table border=\"1\" class=\"dataframe\">\n",
       "  <thead>\n",
       "    <tr style=\"text-align: right;\">\n",
       "      <th></th>\n",
       "      <th>count</th>\n",
       "      <th>mean</th>\n",
       "      <th>std</th>\n",
       "      <th>min</th>\n",
       "      <th>25%</th>\n",
       "      <th>50%</th>\n",
       "      <th>75%</th>\n",
       "      <th>max</th>\n",
       "    </tr>\n",
       "  </thead>\n",
       "  <tbody>\n",
       "    <tr>\n",
       "      <th>Type</th>\n",
       "      <td>57912.0</td>\n",
       "      <td>0.409870</td>\n",
       "      <td>0.646335</td>\n",
       "      <td>0.0</td>\n",
       "      <td>0.000000</td>\n",
       "      <td>0.000000</td>\n",
       "      <td>1.000000</td>\n",
       "      <td>2.0</td>\n",
       "    </tr>\n",
       "    <tr>\n",
       "      <th>Machine failure</th>\n",
       "      <td>57912.0</td>\n",
       "      <td>0.666822</td>\n",
       "      <td>0.471354</td>\n",
       "      <td>0.0</td>\n",
       "      <td>0.000000</td>\n",
       "      <td>1.000000</td>\n",
       "      <td>1.000000</td>\n",
       "      <td>1.0</td>\n",
       "    </tr>\n",
       "    <tr>\n",
       "      <th>Rotational speed [rpm]</th>\n",
       "      <td>57912.0</td>\n",
       "      <td>0.200935</td>\n",
       "      <td>0.182875</td>\n",
       "      <td>0.0</td>\n",
       "      <td>0.107406</td>\n",
       "      <td>0.142026</td>\n",
       "      <td>0.213620</td>\n",
       "      <td>1.0</td>\n",
       "    </tr>\n",
       "    <tr>\n",
       "      <th>Torque [Nm]</th>\n",
       "      <td>57912.0</td>\n",
       "      <td>0.583340</td>\n",
       "      <td>0.199884</td>\n",
       "      <td>0.0</td>\n",
       "      <td>0.465659</td>\n",
       "      <td>0.607975</td>\n",
       "      <td>0.726511</td>\n",
       "      <td>1.0</td>\n",
       "    </tr>\n",
       "    <tr>\n",
       "      <th>Tool wear [min]</th>\n",
       "      <td>57912.0</td>\n",
       "      <td>0.569651</td>\n",
       "      <td>0.273497</td>\n",
       "      <td>0.0</td>\n",
       "      <td>0.345905</td>\n",
       "      <td>0.642146</td>\n",
       "      <td>0.817961</td>\n",
       "      <td>1.0</td>\n",
       "    </tr>\n",
       "    <tr>\n",
       "      <th>Air temperature [c]</th>\n",
       "      <td>57912.0</td>\n",
       "      <td>0.567976</td>\n",
       "      <td>0.206930</td>\n",
       "      <td>0.0</td>\n",
       "      <td>0.401045</td>\n",
       "      <td>0.586957</td>\n",
       "      <td>0.749264</td>\n",
       "      <td>1.0</td>\n",
       "    </tr>\n",
       "    <tr>\n",
       "      <th>Process temperature [c]</th>\n",
       "      <td>57912.0</td>\n",
       "      <td>0.561527</td>\n",
       "      <td>0.164680</td>\n",
       "      <td>0.0</td>\n",
       "      <td>0.438575</td>\n",
       "      <td>0.583577</td>\n",
       "      <td>0.681561</td>\n",
       "      <td>1.0</td>\n",
       "    </tr>\n",
       "    <tr>\n",
       "      <th>type_of_failure</th>\n",
       "      <td>57912.0</td>\n",
       "      <td>2.500000</td>\n",
       "      <td>1.707840</td>\n",
       "      <td>0.0</td>\n",
       "      <td>1.000000</td>\n",
       "      <td>2.500000</td>\n",
       "      <td>4.000000</td>\n",
       "      <td>5.0</td>\n",
       "    </tr>\n",
       "  </tbody>\n",
       "</table>\n",
       "</div>"
      ],
      "text/plain": [
       "                           count      mean       std  min       25%       50%  \\\n",
       "Type                     57912.0  0.409870  0.646335  0.0  0.000000  0.000000   \n",
       "Machine failure          57912.0  0.666822  0.471354  0.0  0.000000  1.000000   \n",
       "Rotational speed [rpm]   57912.0  0.200935  0.182875  0.0  0.107406  0.142026   \n",
       "Torque [Nm]              57912.0  0.583340  0.199884  0.0  0.465659  0.607975   \n",
       "Tool wear [min]          57912.0  0.569651  0.273497  0.0  0.345905  0.642146   \n",
       "Air temperature [c]      57912.0  0.567976  0.206930  0.0  0.401045  0.586957   \n",
       "Process temperature [c]  57912.0  0.561527  0.164680  0.0  0.438575  0.583577   \n",
       "type_of_failure          57912.0  2.500000  1.707840  0.0  1.000000  2.500000   \n",
       "\n",
       "                              75%  max  \n",
       "Type                     1.000000  2.0  \n",
       "Machine failure          1.000000  1.0  \n",
       "Rotational speed [rpm]   0.213620  1.0  \n",
       "Torque [Nm]              0.726511  1.0  \n",
       "Tool wear [min]          0.817961  1.0  \n",
       "Air temperature [c]      0.749264  1.0  \n",
       "Process temperature [c]  0.681561  1.0  \n",
       "type_of_failure          4.000000  5.0  "
      ]
     },
     "execution_count": 8,
     "metadata": {},
     "output_type": "execute_result"
    }
   ],
   "source": [
    "df.describe().T"
   ]
  },
  {
   "cell_type": "code",
   "execution_count": null,
   "id": "c52d7afc",
   "metadata": {},
   "outputs": [],
   "source": []
  },
  {
   "cell_type": "markdown",
   "id": "4a3a429f",
   "metadata": {},
   "source": [
    "## Train test split"
   ]
  },
  {
   "cell_type": "code",
   "execution_count": 9,
   "id": "a512e8b2",
   "metadata": {},
   "outputs": [],
   "source": [
    "from sklearn.model_selection import train_test_split"
   ]
  },
  {
   "cell_type": "code",
   "execution_count": 10,
   "id": "c508c622",
   "metadata": {},
   "outputs": [],
   "source": [
    "X = df.drop([\"Machine failure\", \"type_of_failure\"], axis=1)\n",
    "y = df[\"Machine failure\"]"
   ]
  },
  {
   "cell_type": "code",
   "execution_count": 11,
   "id": "62da65a2",
   "metadata": {},
   "outputs": [],
   "source": [
    "X_train, X_test, y_train, y_test = train_test_split(X, y, test_size=0.2, random_state=42)"
   ]
  },
  {
   "cell_type": "code",
   "execution_count": null,
   "id": "ae098ae4",
   "metadata": {},
   "outputs": [],
   "source": []
  },
  {
   "cell_type": "markdown",
   "id": "1fb8e31d",
   "metadata": {},
   "source": [
    "## Predictting Machine Failure"
   ]
  },
  {
   "cell_type": "code",
   "execution_count": 13,
   "id": "f18530be",
   "metadata": {},
   "outputs": [],
   "source": [
    "from sklearn.linear_model import LogisticRegression\n",
    "from sklearn.svm import SVC\n",
    "from sklearn.tree import DecisionTreeClassifier\n",
    "from sklearn.ensemble import RandomForestClassifier\n",
    "from sklearn.metrics import accuracy_score, confusion_matrix, precision_score, recall_score, f1_score, classification_report"
   ]
  },
  {
   "cell_type": "code",
   "execution_count": 14,
   "id": "d61e3bd9",
   "metadata": {},
   "outputs": [],
   "source": [
    "lr = LogisticRegression()\n",
    "svc = SVC()\n",
    "dt = DecisionTreeClassifier()\n",
    "rf = RandomForestClassifier()\n"
   ]
  },
  {
   "cell_type": "code",
   "execution_count": 15,
   "id": "12ad9c93",
   "metadata": {},
   "outputs": [],
   "source": [
    "models = [lr, svc, dt, rf]\n",
    "scores = []"
   ]
  },
  {
   "cell_type": "code",
   "execution_count": 16,
   "id": "6793a2cb",
   "metadata": {},
   "outputs": [],
   "source": [
    "for m in models:\n",
    "    m.fit(X_train, y_train)\n",
    "    y_pred = m.predict(X_test)\n",
    "    acc = accuracy_score(y_test, y_pred)*100\n",
    "    prec = precision_score(y_test, y_pred)*100\n",
    "    rec = recall_score(y_test, y_pred)*100\n",
    "    f1 = f1_score(y_test, y_pred)*100\n",
    "    scores.append([acc,prec, rec, f1])"
   ]
  },
  {
   "cell_type": "code",
   "execution_count": 17,
   "id": "88aa0778",
   "metadata": {},
   "outputs": [
    {
     "data": {
      "text/html": [
       "<div>\n",
       "<style scoped>\n",
       "    .dataframe tbody tr th:only-of-type {\n",
       "        vertical-align: middle;\n",
       "    }\n",
       "\n",
       "    .dataframe tbody tr th {\n",
       "        vertical-align: top;\n",
       "    }\n",
       "\n",
       "    .dataframe thead th {\n",
       "        text-align: right;\n",
       "    }\n",
       "</style>\n",
       "<table border=\"1\" class=\"dataframe\">\n",
       "  <thead>\n",
       "    <tr style=\"text-align: right;\">\n",
       "      <th></th>\n",
       "      <th>Model</th>\n",
       "      <th>Accuracy</th>\n",
       "      <th>Precision</th>\n",
       "      <th>Recall</th>\n",
       "      <th>F1</th>\n",
       "    </tr>\n",
       "  </thead>\n",
       "  <tbody>\n",
       "    <tr>\n",
       "      <th>0</th>\n",
       "      <td>Logistic Regression</td>\n",
       "      <td>83.829750</td>\n",
       "      <td>86.504065</td>\n",
       "      <td>89.701686</td>\n",
       "      <td>88.073862</td>\n",
       "    </tr>\n",
       "    <tr>\n",
       "      <th>1</th>\n",
       "      <td>SVC</td>\n",
       "      <td>96.261763</td>\n",
       "      <td>95.193144</td>\n",
       "      <td>99.403372</td>\n",
       "      <td>97.252712</td>\n",
       "    </tr>\n",
       "    <tr>\n",
       "      <th>2</th>\n",
       "      <td>Decision Tree</td>\n",
       "      <td>99.007166</td>\n",
       "      <td>99.006323</td>\n",
       "      <td>99.507134</td>\n",
       "      <td>99.256097</td>\n",
       "    </tr>\n",
       "    <tr>\n",
       "      <th>3</th>\n",
       "      <td>Random Forest</td>\n",
       "      <td>99.222999</td>\n",
       "      <td>98.908858</td>\n",
       "      <td>99.935149</td>\n",
       "      <td>99.419355</td>\n",
       "    </tr>\n",
       "  </tbody>\n",
       "</table>\n",
       "</div>"
      ],
      "text/plain": [
       "                 Model   Accuracy  Precision     Recall         F1\n",
       "0  Logistic Regression  83.829750  86.504065  89.701686  88.073862\n",
       "1                  SVC  96.261763  95.193144  99.403372  97.252712\n",
       "2        Decision Tree  99.007166  99.006323  99.507134  99.256097\n",
       "3        Random Forest  99.222999  98.908858  99.935149  99.419355"
      ]
     },
     "execution_count": 17,
     "metadata": {},
     "output_type": "execute_result"
    }
   ],
   "source": [
    "scores_df = pd.DataFrame(columns=['Model'], data=['Logistic Regression', 'SVC', 'Decision Tree', 'Random Forest'])\n",
    "scores_df = pd.concat([scores_df, pd.DataFrame(scores, columns=['Accuracy', 'Precision', 'Recall', 'F1'])], axis=1)\n",
    "scores_df"
   ]
  },
  {
   "cell_type": "code",
   "execution_count": 18,
   "id": "098b22d9",
   "metadata": {},
   "outputs": [
    {
     "data": {
      "text/plain": [
       "'Random Forest'"
      ]
     },
     "execution_count": 18,
     "metadata": {},
     "output_type": "execute_result"
    }
   ],
   "source": [
    "best_model_idx = scores_df['F1'].idxmax()\n",
    "best_model = scores_df.loc[best_model_idx, 'Model']\n",
    "best_model"
   ]
  },
  {
   "cell_type": "code",
   "execution_count": null,
   "id": "cdaed6f2",
   "metadata": {},
   "outputs": [],
   "source": []
  },
  {
   "cell_type": "code",
   "execution_count": null,
   "id": "0dd88730",
   "metadata": {},
   "outputs": [],
   "source": []
  },
  {
   "cell_type": "markdown",
   "id": "dd6d3c78",
   "metadata": {},
   "source": [
    "## Train Test Split"
   ]
  },
  {
   "cell_type": "code",
   "execution_count": 19,
   "id": "5bd47c2e",
   "metadata": {},
   "outputs": [],
   "source": [
    "X = df.drop(['Machine failure', 'type_of_failure'], axis=1)\n",
    "y = df['type_of_failure']\n",
    "\n",
    "X_train, X_test, y_train, y_test = train_test_split(X, y, test_size=0.2, random_state=42)"
   ]
  },
  {
   "cell_type": "markdown",
   "id": "8a25e232",
   "metadata": {},
   "source": [
    "## Predicting Type of Failure"
   ]
  },
  {
   "cell_type": "code",
   "execution_count": 20,
   "id": "15f37594",
   "metadata": {},
   "outputs": [
    {
     "name": "stderr",
     "output_type": "stream",
     "text": [
      "C:\\Users\\prajw\\anaconda3\\Lib\\site-packages\\sklearn\\linear_model\\_logistic.py:458: ConvergenceWarning: lbfgs failed to converge (status=1):\n",
      "STOP: TOTAL NO. of ITERATIONS REACHED LIMIT.\n",
      "\n",
      "Increase the number of iterations (max_iter) or scale the data as shown in:\n",
      "    https://scikit-learn.org/stable/modules/preprocessing.html\n",
      "Please also refer to the documentation for alternative solver options:\n",
      "    https://scikit-learn.org/stable/modules/linear_model.html#logistic-regression\n",
      "  n_iter_i = _check_optimize_result(\n"
     ]
    }
   ],
   "source": [
    "from sklearn.linear_model import LogisticRegression\n",
    "from sklearn.svm import SVC\n",
    "from sklearn.tree import DecisionTreeClassifier\n",
    "from sklearn.ensemble import RandomForestClassifier\n",
    "from sklearn.metrics import accuracy_score, confusion_matrix, precision_score, recall_score, f1_score\n",
    "\n",
    "lr = LogisticRegression()\n",
    "svc = SVC()\n",
    "dt = DecisionTreeClassifier()\n",
    "rf = RandomForestClassifier()\n",
    "\n",
    "models = [lr, svc, dt, rf]\n",
    "scores = []\n",
    "\n",
    "for m in models:\n",
    "    m.fit(X_train, y_train)\n",
    "    y_pred = m.predict(X_test)\n",
    "    acc = accuracy_score(y_test, y_pred) * 100\n",
    "    prec = precision_score(y_test, y_pred, average='macro') * 100\n",
    "    rec = recall_score(y_test, y_pred, average='macro') * 100\n",
    "    f1 = f1_score(y_test, y_pred, average='macro') * 100\n",
    "    scores.append([acc, prec, rec, f1])"
   ]
  },
  {
   "cell_type": "code",
   "execution_count": 21,
   "id": "9292c5af",
   "metadata": {},
   "outputs": [
    {
     "data": {
      "text/html": [
       "<div>\n",
       "<style scoped>\n",
       "    .dataframe tbody tr th:only-of-type {\n",
       "        vertical-align: middle;\n",
       "    }\n",
       "\n",
       "    .dataframe tbody tr th {\n",
       "        vertical-align: top;\n",
       "    }\n",
       "\n",
       "    .dataframe thead th {\n",
       "        text-align: right;\n",
       "    }\n",
       "</style>\n",
       "<table border=\"1\" class=\"dataframe\">\n",
       "  <thead>\n",
       "    <tr style=\"text-align: right;\">\n",
       "      <th></th>\n",
       "      <th>Model</th>\n",
       "      <th>Accuracy</th>\n",
       "      <th>Precision</th>\n",
       "      <th>Recall</th>\n",
       "      <th>F1</th>\n",
       "    </tr>\n",
       "  </thead>\n",
       "  <tbody>\n",
       "    <tr>\n",
       "      <th>0</th>\n",
       "      <td>Logistic Regression</td>\n",
       "      <td>83.786584</td>\n",
       "      <td>83.060005</td>\n",
       "      <td>83.848813</td>\n",
       "      <td>83.320343</td>\n",
       "    </tr>\n",
       "    <tr>\n",
       "      <th>1</th>\n",
       "      <td>SVC</td>\n",
       "      <td>94.077527</td>\n",
       "      <td>94.313446</td>\n",
       "      <td>94.146141</td>\n",
       "      <td>93.873921</td>\n",
       "    </tr>\n",
       "    <tr>\n",
       "      <th>2</th>\n",
       "      <td>Decision Tree</td>\n",
       "      <td>98.635932</td>\n",
       "      <td>98.636193</td>\n",
       "      <td>98.648200</td>\n",
       "      <td>98.637891</td>\n",
       "    </tr>\n",
       "    <tr>\n",
       "      <th>3</th>\n",
       "      <td>Random Forest</td>\n",
       "      <td>99.214366</td>\n",
       "      <td>99.224550</td>\n",
       "      <td>99.225983</td>\n",
       "      <td>99.214943</td>\n",
       "    </tr>\n",
       "  </tbody>\n",
       "</table>\n",
       "</div>"
      ],
      "text/plain": [
       "                 Model   Accuracy  Precision     Recall         F1\n",
       "0  Logistic Regression  83.786584  83.060005  83.848813  83.320343\n",
       "1                  SVC  94.077527  94.313446  94.146141  93.873921\n",
       "2        Decision Tree  98.635932  98.636193  98.648200  98.637891\n",
       "3        Random Forest  99.214366  99.224550  99.225983  99.214943"
      ]
     },
     "execution_count": 21,
     "metadata": {},
     "output_type": "execute_result"
    }
   ],
   "source": [
    "scores_df = pd.DataFrame(columns=['Model'], data=['Logistic Regression', 'SVC', 'Decision Tree', 'Random Forest'])\n",
    "scores_df = pd.concat([scores_df, pd.DataFrame(scores, columns=['Accuracy', 'Precision', 'Recall', 'F1'])], axis=1)\n",
    "scores_df"
   ]
  },
  {
   "cell_type": "markdown",
   "id": "065e0fb3",
   "metadata": {},
   "source": [
    "Random Forest Classifier is the best performing model."
   ]
  },
  {
   "cell_type": "code",
   "execution_count": null,
   "id": "b5c7bc0c",
   "metadata": {},
   "outputs": [],
   "source": []
  }
 ],
 "metadata": {
  "kernelspec": {
   "display_name": "Python 3 (ipykernel)",
   "language": "python",
   "name": "python3"
  },
  "language_info": {
   "codemirror_mode": {
    "name": "ipython",
    "version": 3
   },
   "file_extension": ".py",
   "mimetype": "text/x-python",
   "name": "python",
   "nbconvert_exporter": "python",
   "pygments_lexer": "ipython3",
   "version": "3.11.7"
  }
 },
 "nbformat": 4,
 "nbformat_minor": 5
}
