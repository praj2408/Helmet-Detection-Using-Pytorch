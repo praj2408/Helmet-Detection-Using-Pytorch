{
 "cells": [
  {
   "cell_type": "markdown",
   "id": "0a1b3f4a",
   "metadata": {},
   "source": [
    "# Model Monitoring"
   ]
  },
  {
   "cell_type": "code",
   "execution_count": 1,
   "id": "62e935bb",
   "metadata": {},
   "outputs": [],
   "source": [
    "import pandas as pd\n",
    "import numpy as np\n",
    "from sklearn.ensemble import RandomForestClassifier\n",
    "from sklearn.model_selection import train_test_split"
   ]
  },
  {
   "cell_type": "code",
   "execution_count": 2,
   "id": "f7d61084",
   "metadata": {},
   "outputs": [
    {
     "name": "stdout",
     "output_type": "stream",
     "text": [
      "Collecting evidently\n",
      "  Obtaining dependency information for evidently from https://files.pythonhosted.org/packages/1e/53/83f20fd9677dbaa0f633ede6a1fe2738cc99fb6b9566a9f0123e7d0e6aa8/evidently-0.4.14-py3-none-any.whl.metadata\n",
      "  Downloading evidently-0.4.14-py3-none-any.whl.metadata (12 kB)\n",
      "Requirement already satisfied: plotly>=5.5.0 in c:\\users\\prajw\\anaconda3\\lib\\site-packages (from evidently) (5.9.0)\n",
      "Requirement already satisfied: statsmodels>=0.12.2 in c:\\users\\prajw\\anaconda3\\lib\\site-packages (from evidently) (0.14.0)\n",
      "Requirement already satisfied: scikit-learn>=0.24.0 in c:\\users\\prajw\\anaconda3\\lib\\site-packages (from evidently) (1.2.2)\n",
      "Requirement already satisfied: pandas[parquet]>=1.3.5 in c:\\users\\prajw\\anaconda3\\lib\\site-packages (from evidently) (2.0.3)\n",
      "Requirement already satisfied: numpy>=1.19.5 in c:\\users\\prajw\\anaconda3\\lib\\site-packages (from evidently) (1.24.3)\n",
      "Requirement already satisfied: nltk>=3.6.7 in c:\\users\\prajw\\anaconda3\\lib\\site-packages (from evidently) (3.8.1)\n",
      "Requirement already satisfied: scipy>=1.5.4 in c:\\users\\prajw\\anaconda3\\lib\\site-packages (from evidently) (1.11.1)\n",
      "Requirement already satisfied: requests>=2.21.0 in c:\\users\\prajw\\anaconda3\\lib\\site-packages (from evidently) (2.31.0)\n",
      "Requirement already satisfied: PyYAML>=5.1 in c:\\users\\prajw\\anaconda3\\lib\\site-packages (from evidently) (6.0)\n",
      "Requirement already satisfied: pydantic<2 in c:\\users\\prajw\\anaconda3\\lib\\site-packages (from evidently) (1.10.8)\n",
      "Collecting fastapi>=0.100.0 (from evidently)\n",
      "  Obtaining dependency information for fastapi>=0.100.0 from https://files.pythonhosted.org/packages/bf/97/60351307ab4502908d29f64f2801a36709a3f1888447bb328bc373d6ca0e/fastapi-0.109.2-py3-none-any.whl.metadata\n",
      "  Downloading fastapi-0.109.2-py3-none-any.whl.metadata (25 kB)\n",
      "Collecting fastapi-restful>=0.5.0 (from evidently)\n",
      "  Obtaining dependency information for fastapi-restful>=0.5.0 from https://files.pythonhosted.org/packages/db/3d/e29e6685ab3f608ba445027bc9a6216fc0b576140938079f1c8290ea484f/fastapi_restful-0.5.0-py3-none-any.whl.metadata\n",
      "  Downloading fastapi_restful-0.5.0-py3-none-any.whl.metadata (5.6 kB)\n",
      "Collecting typing-inspect>=0.9.0 (from evidently)\n",
      "  Obtaining dependency information for typing-inspect>=0.9.0 from https://files.pythonhosted.org/packages/65/f3/107a22063bf27bdccf2024833d3445f4eea42b2e598abfbd46f6a63b6cb0/typing_inspect-0.9.0-py3-none-any.whl.metadata\n",
      "  Downloading typing_inspect-0.9.0-py3-none-any.whl.metadata (1.5 kB)\n",
      "Collecting uvicorn>=0.22.0 (from evidently)\n",
      "  Obtaining dependency information for uvicorn>=0.22.0 from https://files.pythonhosted.org/packages/c7/f3/29caa83f5795b20ed3aca357c648f3ae995ff6ff08e38b22387017abbdc5/uvicorn-0.27.0.post1-py3-none-any.whl.metadata\n",
      "  Downloading uvicorn-0.27.0.post1-py3-none-any.whl.metadata (6.4 kB)\n",
      "Collecting watchdog>=3 (from evidently)\n",
      "  Obtaining dependency information for watchdog>=3 from https://files.pythonhosted.org/packages/d2/5c/110884d0c632aedc54cdef5b7de3a78b388b03582e3ba57ae06c79db8b10/watchdog-4.0.0-py3-none-win_amd64.whl.metadata\n",
      "  Downloading watchdog-4.0.0-py3-none-win_amd64.whl.metadata (37 kB)\n",
      "Collecting typer>=0.3 (from evidently)\n",
      "  Downloading typer-0.9.0-py3-none-any.whl (45 kB)\n",
      "     ---------------------------------------- 0.0/45.9 kB ? eta -:--:--\n",
      "     ---------------------------------------- 45.9/45.9 kB ? eta 0:00:00\n",
      "Collecting rich>=13 (from evidently)\n",
      "  Obtaining dependency information for rich>=13 from https://files.pythonhosted.org/packages/be/be/1520178fa01eabe014b16e72a952b9f900631142ccd03dc36cf93e30c1ce/rich-13.7.0-py3-none-any.whl.metadata\n",
      "  Downloading rich-13.7.0-py3-none-any.whl.metadata (18 kB)\n",
      "Collecting iterative-telemetry>=0.0.5 (from evidently)\n",
      "  Downloading iterative_telemetry-0.0.8-py3-none-any.whl (10 kB)\n",
      "Requirement already satisfied: fsspec in c:\\users\\prajw\\anaconda3\\lib\\site-packages (from evidently) (2023.4.0)\n",
      "Collecting starlette<0.37.0,>=0.36.3 (from fastapi>=0.100.0->evidently)\n",
      "  Obtaining dependency information for starlette<0.37.0,>=0.36.3 from https://files.pythonhosted.org/packages/eb/f7/372e3953b6e6fbfe0b70a1bb52612eae16e943f4288516480860fcd4ac41/starlette-0.36.3-py3-none-any.whl.metadata\n",
      "  Downloading starlette-0.36.3-py3-none-any.whl.metadata (5.9 kB)\n",
      "Collecting typing-extensions>=4.8.0 (from fastapi>=0.100.0->evidently)\n",
      "  Obtaining dependency information for typing-extensions>=4.8.0 from https://files.pythonhosted.org/packages/b7/f4/6a90020cd2d93349b442bfcb657d0dc91eee65491600b2cb1d388bc98e6b/typing_extensions-4.9.0-py3-none-any.whl.metadata\n",
      "  Downloading typing_extensions-4.9.0-py3-none-any.whl.metadata (3.0 kB)\n",
      "Requirement already satisfied: psutil<6,>=5 in c:\\users\\prajw\\anaconda3\\lib\\site-packages (from fastapi-restful>=0.5.0->evidently) (5.9.0)\n",
      "Requirement already satisfied: appdirs in c:\\users\\prajw\\anaconda3\\lib\\site-packages (from iterative-telemetry>=0.0.5->evidently) (1.4.4)\n",
      "Requirement already satisfied: filelock in c:\\users\\prajw\\anaconda3\\lib\\site-packages (from iterative-telemetry>=0.0.5->evidently) (3.9.0)\n",
      "Collecting distro (from iterative-telemetry>=0.0.5->evidently)\n",
      "  Obtaining dependency information for distro from https://files.pythonhosted.org/packages/12/b3/231ffd4ab1fc9d679809f356cebee130ac7daa00d6d6f3206dd4fd137e9e/distro-1.9.0-py3-none-any.whl.metadata\n",
      "  Downloading distro-1.9.0-py3-none-any.whl.metadata (6.8 kB)\n",
      "Requirement already satisfied: click in c:\\users\\prajw\\anaconda3\\lib\\site-packages (from nltk>=3.6.7->evidently) (8.0.4)\n",
      "Requirement already satisfied: joblib in c:\\users\\prajw\\anaconda3\\lib\\site-packages (from nltk>=3.6.7->evidently) (1.2.0)\n",
      "Requirement already satisfied: regex>=2021.8.3 in c:\\users\\prajw\\anaconda3\\lib\\site-packages (from nltk>=3.6.7->evidently) (2022.7.9)\n",
      "Requirement already satisfied: tqdm in c:\\users\\prajw\\anaconda3\\lib\\site-packages (from nltk>=3.6.7->evidently) (4.65.0)\n",
      "Requirement already satisfied: python-dateutil>=2.8.2 in c:\\users\\prajw\\anaconda3\\lib\\site-packages (from pandas[parquet]>=1.3.5->evidently) (2.8.2)\n",
      "Requirement already satisfied: pytz>=2020.1 in c:\\users\\prajw\\anaconda3\\lib\\site-packages (from pandas[parquet]>=1.3.5->evidently) (2023.3.post1)\n",
      "Requirement already satisfied: tzdata>=2022.1 in c:\\users\\prajw\\anaconda3\\lib\\site-packages (from pandas[parquet]>=1.3.5->evidently) (2023.3)\n",
      "Requirement already satisfied: pyarrow>=7.0.0 in c:\\users\\prajw\\anaconda3\\lib\\site-packages (from pandas[parquet]>=1.3.5->evidently) (11.0.0)\n",
      "Requirement already satisfied: tenacity>=6.2.0 in c:\\users\\prajw\\anaconda3\\lib\\site-packages (from plotly>=5.5.0->evidently) (8.2.2)\n",
      "Requirement already satisfied: charset-normalizer<4,>=2 in c:\\users\\prajw\\anaconda3\\lib\\site-packages (from requests>=2.21.0->evidently) (2.0.4)\n",
      "Requirement already satisfied: idna<4,>=2.5 in c:\\users\\prajw\\anaconda3\\lib\\site-packages (from requests>=2.21.0->evidently) (3.4)\n",
      "Requirement already satisfied: urllib3<3,>=1.21.1 in c:\\users\\prajw\\anaconda3\\lib\\site-packages (from requests>=2.21.0->evidently) (1.26.16)\n",
      "Requirement already satisfied: certifi>=2017.4.17 in c:\\users\\prajw\\anaconda3\\lib\\site-packages (from requests>=2.21.0->evidently) (2023.7.22)\n",
      "Requirement already satisfied: markdown-it-py>=2.2.0 in c:\\users\\prajw\\anaconda3\\lib\\site-packages (from rich>=13->evidently) (2.2.0)\n",
      "Requirement already satisfied: pygments<3.0.0,>=2.13.0 in c:\\users\\prajw\\anaconda3\\lib\\site-packages (from rich>=13->evidently) (2.15.1)\n",
      "Requirement already satisfied: threadpoolctl>=2.0.0 in c:\\users\\prajw\\anaconda3\\lib\\site-packages (from scikit-learn>=0.24.0->evidently) (2.2.0)\n",
      "Requirement already satisfied: patsy>=0.5.2 in c:\\users\\prajw\\anaconda3\\lib\\site-packages (from statsmodels>=0.12.2->evidently) (0.5.3)\n",
      "Requirement already satisfied: packaging>=21.3 in c:\\users\\prajw\\anaconda3\\lib\\site-packages (from statsmodels>=0.12.2->evidently) (23.1)\n",
      "Requirement already satisfied: mypy-extensions>=0.3.0 in c:\\users\\prajw\\anaconda3\\lib\\site-packages (from typing-inspect>=0.9.0->evidently) (1.0.0)\n",
      "Collecting h11>=0.8 (from uvicorn>=0.22.0->evidently)\n",
      "  Downloading h11-0.14.0-py3-none-any.whl (58 kB)\n",
      "     ---------------------------------------- 0.0/58.3 kB ? eta -:--:--\n",
      "     ---------------------------------------- 58.3/58.3 kB 3.2 MB/s eta 0:00:00\n",
      "Requirement already satisfied: colorama in c:\\users\\prajw\\anaconda3\\lib\\site-packages (from click->nltk>=3.6.7->evidently) (0.4.6)\n",
      "Requirement already satisfied: mdurl~=0.1 in c:\\users\\prajw\\anaconda3\\lib\\site-packages (from markdown-it-py>=2.2.0->rich>=13->evidently) (0.1.0)\n",
      "Requirement already satisfied: six in c:\\users\\prajw\\anaconda3\\lib\\site-packages (from patsy>=0.5.2->statsmodels>=0.12.2->evidently) (1.16.0)\n",
      "Requirement already satisfied: anyio<5,>=3.4.0 in c:\\users\\prajw\\anaconda3\\lib\\site-packages (from starlette<0.37.0,>=0.36.3->fastapi>=0.100.0->evidently) (3.5.0)\n",
      "Requirement already satisfied: sniffio>=1.1 in c:\\users\\prajw\\anaconda3\\lib\\site-packages (from anyio<5,>=3.4.0->starlette<0.37.0,>=0.36.3->fastapi>=0.100.0->evidently) (1.2.0)\n",
      "Downloading evidently-0.4.14-py3-none-any.whl (3.4 MB)\n",
      "   ---------------------------------------- 0.0/3.4 MB ? eta -:--:--\n",
      "   --- ------------------------------------ 0.3/3.4 MB 6.3 MB/s eta 0:00:01\n",
      "   ------ --------------------------------- 0.6/3.4 MB 5.9 MB/s eta 0:00:01\n",
      "   ---------- ----------------------------- 0.9/3.4 MB 6.8 MB/s eta 0:00:01\n",
      "   ------------ --------------------------- 1.0/3.4 MB 6.6 MB/s eta 0:00:01\n",
      "   ------------ --------------------------- 1.0/3.4 MB 6.6 MB/s eta 0:00:01\n",
      "   ------------ --------------------------- 1.0/3.4 MB 6.6 MB/s eta 0:00:01\n",
      "   ------------ --------------------------- 1.0/3.4 MB 6.6 MB/s eta 0:00:01\n",
      "   ------------ --------------------------- 1.0/3.4 MB 6.6 MB/s eta 0:00:01\n",
      "   ------------- -------------------------- 1.1/3.4 MB 3.0 MB/s eta 0:00:01\n",
      "   ----------------- ---------------------- 1.5/3.4 MB 3.5 MB/s eta 0:00:01\n",
      "   --------------------- ------------------ 1.8/3.4 MB 4.0 MB/s eta 0:00:01\n",
      "   ------------------------ --------------- 2.1/3.4 MB 4.2 MB/s eta 0:00:01\n",
      "   ---------------------------- ----------- 2.4/3.4 MB 4.3 MB/s eta 0:00:01\n",
      "   ------------------------------- -------- 2.7/3.4 MB 4.6 MB/s eta 0:00:01\n",
      "   ---------------------------------- ----- 2.9/3.4 MB 4.6 MB/s eta 0:00:01\n",
      "   ------------------------------------- -- 3.2/3.4 MB 4.8 MB/s eta 0:00:01\n",
      "   ---------------------------------------  3.3/3.4 MB 4.7 MB/s eta 0:00:01\n",
      "   ---------------------------------------- 3.4/3.4 MB 4.7 MB/s eta 0:00:00\n",
      "Downloading fastapi-0.109.2-py3-none-any.whl (92 kB)\n",
      "   ---------------------------------------- 0.0/92.1 kB ? eta -:--:--\n",
      "   ---------------------------------------- 92.1/92.1 kB ? eta 0:00:00\n",
      "Downloading fastapi_restful-0.5.0-py3-none-any.whl (18 kB)\n",
      "Downloading rich-13.7.0-py3-none-any.whl (240 kB)\n",
      "   ---------------------------------------- 0.0/240.6 kB ? eta -:--:--\n",
      "   -------------------- ------------------- 122.9/240.6 kB 3.6 MB/s eta 0:00:01\n",
      "   ---------------------------------------  235.5/240.6 kB 2.9 MB/s eta 0:00:01\n",
      "   ---------------------------------------- 240.6/240.6 kB 2.5 MB/s eta 0:00:00\n",
      "Downloading typing_inspect-0.9.0-py3-none-any.whl (8.8 kB)\n",
      "Downloading uvicorn-0.27.0.post1-py3-none-any.whl (60 kB)\n",
      "   ---------------------------------------- 0.0/60.7 kB ? eta -:--:--\n",
      "   ---------------------------------------- 60.7/60.7 kB ? eta 0:00:00\n",
      "Downloading watchdog-4.0.0-py3-none-win_amd64.whl (82 kB)\n",
      "   ---------------------------------------- 0.0/82.9 kB ? eta -:--:--\n",
      "   ---------------------------------------- 82.9/82.9 kB 4.5 MB/s eta 0:00:00\n",
      "Downloading starlette-0.36.3-py3-none-any.whl (71 kB)\n",
      "   ---------------------------------------- 0.0/71.5 kB ? eta -:--:--\n",
      "   ---------------------------------------- 71.5/71.5 kB 4.1 MB/s eta 0:00:00\n",
      "Downloading typing_extensions-4.9.0-py3-none-any.whl (32 kB)\n",
      "Downloading distro-1.9.0-py3-none-any.whl (20 kB)\n",
      "Installing collected packages: watchdog, typing-extensions, h11, distro, uvicorn, typing-inspect, typer, starlette, rich, iterative-telemetry, fastapi, fastapi-restful, evidently\n",
      "  Attempting uninstall: watchdog\n",
      "    Found existing installation: watchdog 2.1.6\n",
      "    Uninstalling watchdog-2.1.6:\n",
      "      Successfully uninstalled watchdog-2.1.6\n",
      "  Attempting uninstall: typing-extensions\n",
      "    Found existing installation: typing_extensions 4.7.1\n",
      "    Uninstalling typing_extensions-4.7.1:\n",
      "      Successfully uninstalled typing_extensions-4.7.1\n",
      "Successfully installed distro-1.9.0 evidently-0.4.14 fastapi-0.109.2 fastapi-restful-0.5.0 h11-0.14.0 iterative-telemetry-0.0.8 rich-13.7.0 starlette-0.36.3 typer-0.9.0 typing-extensions-4.9.0 typing-inspect-0.9.0 uvicorn-0.27.0.post1 watchdog-4.0.0\n"
     ]
    }
   ],
   "source": [
    "!pip install evidently"
   ]
  },
  {
   "cell_type": "code",
   "execution_count": null,
   "id": "55634f3f",
   "metadata": {},
   "outputs": [],
   "source": []
  },
  {
   "cell_type": "code",
   "execution_count": null,
   "id": "6b3a803c",
   "metadata": {},
   "outputs": [],
   "source": [
    "from evidently import ColumnMapping\n",
    "from "
   ]
  },
  {
   "cell_type": "code",
   "execution_count": null,
   "id": "064f9953",
   "metadata": {},
   "outputs": [],
   "source": []
  },
  {
   "cell_type": "code",
   "execution_count": null,
   "id": "c6b6e90c",
   "metadata": {},
   "outputs": [],
   "source": []
  },
  {
   "cell_type": "code",
   "execution_count": null,
   "id": "a8c4d0a4",
   "metadata": {},
   "outputs": [],
   "source": []
  },
  {
   "cell_type": "code",
   "execution_count": null,
   "id": "93fc5f6c",
   "metadata": {},
   "outputs": [],
   "source": []
  },
  {
   "cell_type": "code",
   "execution_count": null,
   "id": "2ceb589a",
   "metadata": {},
   "outputs": [],
   "source": []
  },
  {
   "cell_type": "code",
   "execution_count": null,
   "id": "7c46b725",
   "metadata": {},
   "outputs": [],
   "source": []
  },
  {
   "cell_type": "code",
   "execution_count": null,
   "id": "527785f9",
   "metadata": {},
   "outputs": [],
   "source": []
  },
  {
   "cell_type": "code",
   "execution_count": null,
   "id": "9066011e",
   "metadata": {},
   "outputs": [],
   "source": []
  },
  {
   "cell_type": "code",
   "execution_count": null,
   "id": "5d97ac99",
   "metadata": {},
   "outputs": [],
   "source": []
  },
  {
   "cell_type": "code",
   "execution_count": null,
   "id": "d4b07f05",
   "metadata": {},
   "outputs": [],
   "source": []
  },
  {
   "cell_type": "code",
   "execution_count": null,
   "id": "8620e3c3",
   "metadata": {},
   "outputs": [],
   "source": []
  },
  {
   "cell_type": "code",
   "execution_count": null,
   "id": "0ea777f4",
   "metadata": {},
   "outputs": [],
   "source": []
  },
  {
   "cell_type": "code",
   "execution_count": null,
   "id": "7ef7e7ab",
   "metadata": {},
   "outputs": [],
   "source": []
  },
  {
   "cell_type": "code",
   "execution_count": null,
   "id": "0837a743",
   "metadata": {},
   "outputs": [],
   "source": []
  },
  {
   "cell_type": "code",
   "execution_count": null,
   "id": "536c363d",
   "metadata": {},
   "outputs": [],
   "source": []
  },
  {
   "cell_type": "code",
   "execution_count": null,
   "id": "94f7bcea",
   "metadata": {},
   "outputs": [],
   "source": []
  },
  {
   "cell_type": "code",
   "execution_count": null,
   "id": "94b3b622",
   "metadata": {},
   "outputs": [],
   "source": []
  },
  {
   "cell_type": "code",
   "execution_count": null,
   "id": "3d05c898",
   "metadata": {},
   "outputs": [],
   "source": []
  },
  {
   "cell_type": "code",
   "execution_count": null,
   "id": "df9ecd49",
   "metadata": {},
   "outputs": [],
   "source": []
  },
  {
   "cell_type": "code",
   "execution_count": null,
   "id": "d5ebfe70",
   "metadata": {},
   "outputs": [],
   "source": []
  },
  {
   "cell_type": "code",
   "execution_count": null,
   "id": "e3b9147a",
   "metadata": {},
   "outputs": [],
   "source": []
  },
  {
   "cell_type": "code",
   "execution_count": null,
   "id": "b44391c2",
   "metadata": {},
   "outputs": [],
   "source": []
  },
  {
   "cell_type": "code",
   "execution_count": null,
   "id": "d1b9ca05",
   "metadata": {},
   "outputs": [],
   "source": []
  },
  {
   "cell_type": "code",
   "execution_count": null,
   "id": "3eead179",
   "metadata": {},
   "outputs": [],
   "source": []
  },
  {
   "cell_type": "code",
   "execution_count": null,
   "id": "846f9906",
   "metadata": {},
   "outputs": [],
   "source": []
  },
  {
   "cell_type": "code",
   "execution_count": null,
   "id": "5823f1cc",
   "metadata": {},
   "outputs": [],
   "source": []
  },
  {
   "cell_type": "code",
   "execution_count": null,
   "id": "e822df93",
   "metadata": {},
   "outputs": [],
   "source": []
  },
  {
   "cell_type": "code",
   "execution_count": null,
   "id": "fb03a8ed",
   "metadata": {},
   "outputs": [],
   "source": []
  },
  {
   "cell_type": "code",
   "execution_count": null,
   "id": "03bc5491",
   "metadata": {},
   "outputs": [],
   "source": []
  },
  {
   "cell_type": "code",
   "execution_count": null,
   "id": "1bf69712",
   "metadata": {},
   "outputs": [],
   "source": []
  },
  {
   "cell_type": "code",
   "execution_count": null,
   "id": "3cbbaec9",
   "metadata": {},
   "outputs": [],
   "source": []
  },
  {
   "cell_type": "code",
   "execution_count": null,
   "id": "39f7c854",
   "metadata": {},
   "outputs": [],
   "source": []
  },
  {
   "cell_type": "code",
   "execution_count": null,
   "id": "533d3a84",
   "metadata": {},
   "outputs": [],
   "source": []
  },
  {
   "cell_type": "code",
   "execution_count": null,
   "id": "34772055",
   "metadata": {},
   "outputs": [],
   "source": []
  },
  {
   "cell_type": "code",
   "execution_count": null,
   "id": "8aa8d019",
   "metadata": {},
   "outputs": [],
   "source": []
  },
  {
   "cell_type": "code",
   "execution_count": null,
   "id": "381bd1a1",
   "metadata": {},
   "outputs": [],
   "source": []
  },
  {
   "cell_type": "code",
   "execution_count": null,
   "id": "f9a6e007",
   "metadata": {},
   "outputs": [],
   "source": []
  },
  {
   "cell_type": "code",
   "execution_count": null,
   "id": "a41ae163",
   "metadata": {},
   "outputs": [],
   "source": []
  },
  {
   "cell_type": "code",
   "execution_count": null,
   "id": "285da7a8",
   "metadata": {},
   "outputs": [],
   "source": []
  },
  {
   "cell_type": "code",
   "execution_count": null,
   "id": "b8b87db3",
   "metadata": {},
   "outputs": [],
   "source": []
  },
  {
   "cell_type": "code",
   "execution_count": null,
   "id": "ffeb487e",
   "metadata": {},
   "outputs": [],
   "source": []
  },
  {
   "cell_type": "code",
   "execution_count": null,
   "id": "4503128e",
   "metadata": {},
   "outputs": [],
   "source": []
  },
  {
   "cell_type": "code",
   "execution_count": null,
   "id": "d2514905",
   "metadata": {},
   "outputs": [],
   "source": []
  },
  {
   "cell_type": "code",
   "execution_count": null,
   "id": "828d89e0",
   "metadata": {},
   "outputs": [],
   "source": []
  },
  {
   "cell_type": "code",
   "execution_count": null,
   "id": "0b559035",
   "metadata": {},
   "outputs": [],
   "source": []
  },
  {
   "cell_type": "code",
   "execution_count": null,
   "id": "443c8bbe",
   "metadata": {},
   "outputs": [],
   "source": []
  },
  {
   "cell_type": "code",
   "execution_count": null,
   "id": "576e597f",
   "metadata": {},
   "outputs": [],
   "source": []
  },
  {
   "cell_type": "code",
   "execution_count": null,
   "id": "d661dd88",
   "metadata": {},
   "outputs": [],
   "source": []
  },
  {
   "cell_type": "code",
   "execution_count": null,
   "id": "7debe342",
   "metadata": {},
   "outputs": [],
   "source": []
  },
  {
   "cell_type": "code",
   "execution_count": null,
   "id": "1bf85e9d",
   "metadata": {},
   "outputs": [],
   "source": []
  },
  {
   "cell_type": "code",
   "execution_count": null,
   "id": "bceb5921",
   "metadata": {},
   "outputs": [],
   "source": []
  },
  {
   "cell_type": "code",
   "execution_count": null,
   "id": "f35a7c36",
   "metadata": {},
   "outputs": [],
   "source": []
  },
  {
   "cell_type": "code",
   "execution_count": null,
   "id": "2094d09c",
   "metadata": {},
   "outputs": [],
   "source": []
  },
  {
   "cell_type": "code",
   "execution_count": null,
   "id": "bdebcca3",
   "metadata": {},
   "outputs": [],
   "source": []
  },
  {
   "cell_type": "code",
   "execution_count": null,
   "id": "88da8d59",
   "metadata": {},
   "outputs": [],
   "source": []
  },
  {
   "cell_type": "code",
   "execution_count": null,
   "id": "e8e55d95",
   "metadata": {},
   "outputs": [],
   "source": []
  }
 ],
 "metadata": {
  "kernelspec": {
   "display_name": "Python 3 (ipykernel)",
   "language": "python",
   "name": "python3"
  },
  "language_info": {
   "codemirror_mode": {
    "name": "ipython",
    "version": 3
   },
   "file_extension": ".py",
   "mimetype": "text/x-python",
   "name": "python",
   "nbconvert_exporter": "python",
   "pygments_lexer": "ipython3",
   "version": "3.11.5"
  }
 },
 "nbformat": 4,
 "nbformat_minor": 5
}
